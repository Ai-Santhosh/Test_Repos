{
 "cells": [
  {
   "cell_type": "markdown",
   "id": "259500d6",
   "metadata": {
    "id": "view-in-github",
    "papermill": {
     "duration": 0.003078,
     "end_time": "2025-04-12T06:08:41.937895",
     "exception": false,
     "start_time": "2025-04-12T06:08:41.934817",
     "status": "completed"
    },
    "tags": []
   },
   "source": [
    "<a href=\"https://colab.research.google.com/github/Ai-Santhosh/Test_Repos/blob/main/Untitled16.ipynb\" target=\"_parent\"><img src=\"https://colab.research.google.com/assets/colab-badge.svg\" alt=\"Open In Colab\"/></a>"
   ]
  },
  {
   "cell_type": "code",
   "execution_count": 1,
   "id": "8e7907ec",
   "metadata": {
    "execution": {
     "iopub.execute_input": "2025-04-12T06:08:41.943787Z",
     "iopub.status.busy": "2025-04-12T06:08:41.943383Z",
     "iopub.status.idle": "2025-04-12T06:08:41.952867Z",
     "shell.execute_reply": "2025-04-12T06:08:41.951668Z"
    },
    "id": "liwAUljyhNIz",
    "outputId": "b161845f-14cd-4c4b-a84c-51322f1d2629",
    "papermill": {
     "duration": 0.014285,
     "end_time": "2025-04-12T06:08:41.954512",
     "exception": false,
     "start_time": "2025-04-12T06:08:41.940227",
     "status": "completed"
    },
    "tags": []
   },
   "outputs": [
    {
     "name": "stdout",
     "output_type": "stream",
     "text": [
      "Hello World\n"
     ]
    }
   ],
   "source": [
    "print('Hello World')"
   ]
  },
  {
   "cell_type": "code",
   "execution_count": 2,
   "id": "d42d7f27",
   "metadata": {
    "execution": {
     "iopub.execute_input": "2025-04-12T06:08:41.960000Z",
     "iopub.status.busy": "2025-04-12T06:08:41.959732Z",
     "iopub.status.idle": "2025-04-12T06:08:41.964685Z",
     "shell.execute_reply": "2025-04-12T06:08:41.963586Z"
    },
    "id": "GTGrwHjKhe1A",
    "papermill": {
     "duration": 0.009308,
     "end_time": "2025-04-12T06:08:41.966041",
     "exception": false,
     "start_time": "2025-04-12T06:08:41.956733",
     "status": "completed"
    },
    "tags": []
   },
   "outputs": [
    {
     "name": "stdout",
     "output_type": "stream",
     "text": [
      "first session\n"
     ]
    }
   ],
   "source": [
    "print('first session')"
   ]
  },
  {
   "cell_type": "code",
   "execution_count": 3,
   "id": "f1c03a66",
   "metadata": {
    "execution": {
     "iopub.execute_input": "2025-04-12T06:08:41.971742Z",
     "iopub.status.busy": "2025-04-12T06:08:41.971134Z",
     "iopub.status.idle": "2025-04-12T06:08:41.976333Z",
     "shell.execute_reply": "2025-04-12T06:08:41.975339Z"
    },
    "papermill": {
     "duration": 0.00974,
     "end_time": "2025-04-12T06:08:41.978015",
     "exception": false,
     "start_time": "2025-04-12T06:08:41.968275",
     "status": "completed"
    },
    "tags": []
   },
   "outputs": [
    {
     "name": "stdout",
     "output_type": "stream",
     "text": [
      "New Updates\n"
     ]
    }
   ],
   "source": [
    "print(\"New Updates\")"
   ]
  },
  {
   "cell_type": "code",
   "execution_count": 4,
   "id": "b9a078ed",
   "metadata": {
    "execution": {
     "iopub.execute_input": "2025-04-12T06:08:41.983766Z",
     "iopub.status.busy": "2025-04-12T06:08:41.983468Z",
     "iopub.status.idle": "2025-04-12T06:08:41.989173Z",
     "shell.execute_reply": "2025-04-12T06:08:41.988120Z"
    },
    "papermill": {
     "duration": 0.010728,
     "end_time": "2025-04-12T06:08:41.991044",
     "exception": false,
     "start_time": "2025-04-12T06:08:41.980316",
     "status": "completed"
    },
    "tags": []
   },
   "outputs": [
    {
     "name": "stdout",
     "output_type": "stream",
     "text": [
      "process update\n"
     ]
    }
   ],
   "source": [
    "print(\"process update\")"
   ]
  },
  {
   "cell_type": "code",
   "execution_count": 5,
   "id": "832ac285",
   "metadata": {
    "execution": {
     "iopub.execute_input": "2025-04-12T06:08:41.997013Z",
     "iopub.status.busy": "2025-04-12T06:08:41.996727Z",
     "iopub.status.idle": "2025-04-12T06:08:42.001864Z",
     "shell.execute_reply": "2025-04-12T06:08:42.000824Z"
    },
    "papermill": {
     "duration": 0.010103,
     "end_time": "2025-04-12T06:08:42.003652",
     "exception": false,
     "start_time": "2025-04-12T06:08:41.993549",
     "status": "completed"
    },
    "tags": []
   },
   "outputs": [
    {
     "name": "stdout",
     "output_type": "stream",
     "text": [
      "update in kaggle\n"
     ]
    }
   ],
   "source": [
    "print(\"update in kaggle\")"
   ]
  },
  {
   "cell_type": "code",
   "execution_count": null,
   "id": "4db56eca",
   "metadata": {
    "papermill": {
     "duration": 0.002027,
     "end_time": "2025-04-12T06:08:42.008134",
     "exception": false,
     "start_time": "2025-04-12T06:08:42.006107",
     "status": "completed"
    },
    "tags": []
   },
   "outputs": [],
   "source": []
  }
 ],
 "metadata": {
  "colab": {
   "authorship_tag": "ABX9TyN5HiJY3Wfdspw55o3NslZG",
   "include_colab_link": true,
   "provenance": []
  },
  "kaggle": {
   "accelerator": "none",
   "dataSources": [],
   "dockerImageVersionId": 31012,
   "isGpuEnabled": false,
   "isInternetEnabled": false,
   "language": "python",
   "sourceType": "notebook"
  },
  "kernelspec": {
   "display_name": "Python 3",
   "language": "python",
   "name": "python3"
  },
  "language_info": {
   "codemirror_mode": {
    "name": "ipython",
    "version": 3
   },
   "file_extension": ".py",
   "mimetype": "text/x-python",
   "name": "python",
   "nbconvert_exporter": "python",
   "pygments_lexer": "ipython3",
   "version": "3.11.11"
  },
  "papermill": {
   "default_parameters": {},
   "duration": 5.919898,
   "end_time": "2025-04-12T06:08:42.432823",
   "environment_variables": {},
   "exception": null,
   "input_path": "__notebook__.ipynb",
   "output_path": "__notebook__.ipynb",
   "parameters": {},
   "start_time": "2025-04-12T06:08:36.512925",
   "version": "2.6.0"
  }
 },
 "nbformat": 4,
 "nbformat_minor": 5
}
