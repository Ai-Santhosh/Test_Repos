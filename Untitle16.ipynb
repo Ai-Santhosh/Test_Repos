{
 "cells": [
  {
   "cell_type": "markdown",
   "id": "a7c1a651",
   "metadata": {
    "id": "view-in-github",
    "papermill": {
     "duration": 0.002467,
     "end_time": "2025-04-12T06:11:55.892244",
     "exception": false,
     "start_time": "2025-04-12T06:11:55.889777",
     "status": "completed"
    },
    "tags": []
   },
   "source": [
    "<a href=\"https://colab.research.google.com/github/Ai-Santhosh/Test_Repos/blob/main/Untitled16.ipynb\" target=\"_parent\"><img src=\"https://colab.research.google.com/assets/colab-badge.svg\" alt=\"Open In Colab\"/></a>"
   ]
  },
  {
   "cell_type": "code",
   "execution_count": 1,
   "id": "362a6ec4",
   "metadata": {
    "execution": {
     "iopub.execute_input": "2025-04-12T06:11:55.897554Z",
     "iopub.status.busy": "2025-04-12T06:11:55.897146Z",
     "iopub.status.idle": "2025-04-12T06:11:55.905487Z",
     "shell.execute_reply": "2025-04-12T06:11:55.904482Z"
    },
    "id": "liwAUljyhNIz",
    "outputId": "b161845f-14cd-4c4b-a84c-51322f1d2629",
    "papermill": {
     "duration": 0.012637,
     "end_time": "2025-04-12T06:11:55.906898",
     "exception": false,
     "start_time": "2025-04-12T06:11:55.894261",
     "status": "completed"
    },
    "tags": []
   },
   "outputs": [
    {
     "name": "stdout",
     "output_type": "stream",
     "text": [
      "Hello World\n"
     ]
    }
   ],
   "source": [
    "print('Hello World')"
   ]
  },
  {
   "cell_type": "code",
   "execution_count": 2,
   "id": "4881d8df",
   "metadata": {
    "execution": {
     "iopub.execute_input": "2025-04-12T06:11:55.912328Z",
     "iopub.status.busy": "2025-04-12T06:11:55.911718Z",
     "iopub.status.idle": "2025-04-12T06:11:55.916465Z",
     "shell.execute_reply": "2025-04-12T06:11:55.915519Z"
    },
    "id": "GTGrwHjKhe1A",
    "papermill": {
     "duration": 0.008752,
     "end_time": "2025-04-12T06:11:55.917728",
     "exception": false,
     "start_time": "2025-04-12T06:11:55.908976",
     "status": "completed"
    },
    "tags": []
   },
   "outputs": [
    {
     "name": "stdout",
     "output_type": "stream",
     "text": [
      "first session\n"
     ]
    }
   ],
   "source": [
    "print('first session')"
   ]
  },
  {
   "cell_type": "code",
   "execution_count": 3,
   "id": "e8bfd213",
   "metadata": {
    "execution": {
     "iopub.execute_input": "2025-04-12T06:11:55.922935Z",
     "iopub.status.busy": "2025-04-12T06:11:55.922619Z",
     "iopub.status.idle": "2025-04-12T06:11:55.927013Z",
     "shell.execute_reply": "2025-04-12T06:11:55.926069Z"
    },
    "papermill": {
     "duration": 0.008573,
     "end_time": "2025-04-12T06:11:55.928318",
     "exception": false,
     "start_time": "2025-04-12T06:11:55.919745",
     "status": "completed"
    },
    "tags": []
   },
   "outputs": [
    {
     "name": "stdout",
     "output_type": "stream",
     "text": [
      "New Updates\n"
     ]
    }
   ],
   "source": [
    "print(\"New Updates\")"
   ]
  },
  {
   "cell_type": "code",
   "execution_count": 4,
   "id": "a242f96e",
   "metadata": {
    "execution": {
     "iopub.execute_input": "2025-04-12T06:11:55.933870Z",
     "iopub.status.busy": "2025-04-12T06:11:55.933535Z",
     "iopub.status.idle": "2025-04-12T06:11:55.938173Z",
     "shell.execute_reply": "2025-04-12T06:11:55.937300Z"
    },
    "papermill": {
     "duration": 0.008992,
     "end_time": "2025-04-12T06:11:55.939493",
     "exception": false,
     "start_time": "2025-04-12T06:11:55.930501",
     "status": "completed"
    },
    "tags": []
   },
   "outputs": [
    {
     "name": "stdout",
     "output_type": "stream",
     "text": [
      "process update\n"
     ]
    }
   ],
   "source": [
    "print(\"process update\")"
   ]
  },
  {
   "cell_type": "code",
   "execution_count": 5,
   "id": "f6fb1824",
   "metadata": {
    "execution": {
     "iopub.execute_input": "2025-04-12T06:11:55.945004Z",
     "iopub.status.busy": "2025-04-12T06:11:55.944677Z",
     "iopub.status.idle": "2025-04-12T06:11:55.949520Z",
     "shell.execute_reply": "2025-04-12T06:11:55.948552Z"
    },
    "papermill": {
     "duration": 0.009232,
     "end_time": "2025-04-12T06:11:55.950950",
     "exception": false,
     "start_time": "2025-04-12T06:11:55.941718",
     "status": "completed"
    },
    "tags": []
   },
   "outputs": [
    {
     "name": "stdout",
     "output_type": "stream",
     "text": [
      "update in kaggle\n"
     ]
    }
   ],
   "source": [
    "print(\"update in kaggle\")"
   ]
  },
  {
   "cell_type": "code",
   "execution_count": null,
   "id": "a880cc40",
   "metadata": {
    "papermill": {
     "duration": 0.001856,
     "end_time": "2025-04-12T06:11:55.955072",
     "exception": false,
     "start_time": "2025-04-12T06:11:55.953216",
     "status": "completed"
    },
    "tags": []
   },
   "outputs": [],
   "source": []
  }
 ],
 "metadata": {
  "colab": {
   "authorship_tag": "ABX9TyN5HiJY3Wfdspw55o3NslZG",
   "include_colab_link": true,
   "provenance": []
  },
  "kaggle": {
   "accelerator": "none",
   "dataSources": [],
   "dockerImageVersionId": 31012,
   "isGpuEnabled": false,
   "isInternetEnabled": false,
   "language": "python",
   "sourceType": "notebook"
  },
  "kernelspec": {
   "display_name": "Python 3",
   "language": "python",
   "name": "python3"
  },
  "language_info": {
   "codemirror_mode": {
    "name": "ipython",
    "version": 3
   },
   "file_extension": ".py",
   "mimetype": "text/x-python",
   "name": "python",
   "nbconvert_exporter": "python",
   "pygments_lexer": "ipython3",
   "version": "3.11.11"
  },
  "papermill": {
   "default_parameters": {},
   "duration": 5.31343,
   "end_time": "2025-04-12T06:11:56.376296",
   "environment_variables": {},
   "exception": null,
   "input_path": "__notebook__.ipynb",
   "output_path": "__notebook__.ipynb",
   "parameters": {},
   "start_time": "2025-04-12T06:11:51.062866",
   "version": "2.6.0"
  }
 },
 "nbformat": 4,
 "nbformat_minor": 5
}
