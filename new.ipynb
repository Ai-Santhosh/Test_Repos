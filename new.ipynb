{
 "cells": [
  {
   "cell_type": "markdown",
   "id": "38261c57",
   "metadata": {
    "id": "view-in-github",
    "papermill": {
     "duration": 0.002574,
     "end_time": "2025-04-12T06:10:09.148004",
     "exception": false,
     "start_time": "2025-04-12T06:10:09.145430",
     "status": "completed"
    },
    "tags": []
   },
   "source": [
    "<a href=\"https://colab.research.google.com/github/Ai-Santhosh/Test_Repos/blob/main/Untitled16.ipynb\" target=\"_parent\"><img src=\"https://colab.research.google.com/assets/colab-badge.svg\" alt=\"Open In Colab\"/></a>"
   ]
  },
  {
   "cell_type": "code",
   "execution_count": 1,
   "id": "ffdc1c7b",
   "metadata": {
    "execution": {
     "iopub.execute_input": "2025-04-12T06:10:09.153540Z",
     "iopub.status.busy": "2025-04-12T06:10:09.153235Z",
     "iopub.status.idle": "2025-04-12T06:10:09.161694Z",
     "shell.execute_reply": "2025-04-12T06:10:09.160712Z"
    },
    "id": "liwAUljyhNIz",
    "outputId": "b161845f-14cd-4c4b-a84c-51322f1d2629",
    "papermill": {
     "duration": 0.012984,
     "end_time": "2025-04-12T06:10:09.163217",
     "exception": false,
     "start_time": "2025-04-12T06:10:09.150233",
     "status": "completed"
    },
    "tags": []
   },
   "outputs": [
    {
     "name": "stdout",
     "output_type": "stream",
     "text": [
      "Hello World\n"
     ]
    }
   ],
   "source": [
    "print('Hello World')"
   ]
  },
  {
   "cell_type": "code",
   "execution_count": 2,
   "id": "05d764fe",
   "metadata": {
    "execution": {
     "iopub.execute_input": "2025-04-12T06:10:09.168286Z",
     "iopub.status.busy": "2025-04-12T06:10:09.167998Z",
     "iopub.status.idle": "2025-04-12T06:10:09.172756Z",
     "shell.execute_reply": "2025-04-12T06:10:09.171971Z"
    },
    "id": "GTGrwHjKhe1A",
    "papermill": {
     "duration": 0.008802,
     "end_time": "2025-04-12T06:10:09.174071",
     "exception": false,
     "start_time": "2025-04-12T06:10:09.165269",
     "status": "completed"
    },
    "tags": []
   },
   "outputs": [
    {
     "name": "stdout",
     "output_type": "stream",
     "text": [
      "first session\n"
     ]
    }
   ],
   "source": [
    "print('first session')"
   ]
  },
  {
   "cell_type": "code",
   "execution_count": 3,
   "id": "d11a653f",
   "metadata": {
    "execution": {
     "iopub.execute_input": "2025-04-12T06:10:09.178983Z",
     "iopub.status.busy": "2025-04-12T06:10:09.178714Z",
     "iopub.status.idle": "2025-04-12T06:10:09.183225Z",
     "shell.execute_reply": "2025-04-12T06:10:09.182415Z"
    },
    "papermill": {
     "duration": 0.008313,
     "end_time": "2025-04-12T06:10:09.184417",
     "exception": false,
     "start_time": "2025-04-12T06:10:09.176104",
     "status": "completed"
    },
    "tags": []
   },
   "outputs": [
    {
     "name": "stdout",
     "output_type": "stream",
     "text": [
      "New Updates\n"
     ]
    }
   ],
   "source": [
    "print(\"New Updates\")"
   ]
  },
  {
   "cell_type": "code",
   "execution_count": 4,
   "id": "3d532388",
   "metadata": {
    "execution": {
     "iopub.execute_input": "2025-04-12T06:10:09.189378Z",
     "iopub.status.busy": "2025-04-12T06:10:09.189146Z",
     "iopub.status.idle": "2025-04-12T06:10:09.193499Z",
     "shell.execute_reply": "2025-04-12T06:10:09.192558Z"
    },
    "papermill": {
     "duration": 0.008365,
     "end_time": "2025-04-12T06:10:09.194821",
     "exception": false,
     "start_time": "2025-04-12T06:10:09.186456",
     "status": "completed"
    },
    "tags": []
   },
   "outputs": [
    {
     "name": "stdout",
     "output_type": "stream",
     "text": [
      "process update\n"
     ]
    }
   ],
   "source": [
    "print(\"process update\")"
   ]
  },
  {
   "cell_type": "code",
   "execution_count": 5,
   "id": "9f941140",
   "metadata": {
    "execution": {
     "iopub.execute_input": "2025-04-12T06:10:09.199814Z",
     "iopub.status.busy": "2025-04-12T06:10:09.199541Z",
     "iopub.status.idle": "2025-04-12T06:10:09.204141Z",
     "shell.execute_reply": "2025-04-12T06:10:09.203383Z"
    },
    "papermill": {
     "duration": 0.008426,
     "end_time": "2025-04-12T06:10:09.205314",
     "exception": false,
     "start_time": "2025-04-12T06:10:09.196888",
     "status": "completed"
    },
    "tags": []
   },
   "outputs": [
    {
     "name": "stdout",
     "output_type": "stream",
     "text": [
      "update in kaggle\n"
     ]
    }
   ],
   "source": [
    "print(\"update in kaggle\")"
   ]
  },
  {
   "cell_type": "code",
   "execution_count": null,
   "id": "dc1285b4",
   "metadata": {
    "papermill": {
     "duration": 0.001884,
     "end_time": "2025-04-12T06:10:09.209367",
     "exception": false,
     "start_time": "2025-04-12T06:10:09.207483",
     "status": "completed"
    },
    "tags": []
   },
   "outputs": [],
   "source": []
  }
 ],
 "metadata": {
  "colab": {
   "authorship_tag": "ABX9TyN5HiJY3Wfdspw55o3NslZG",
   "include_colab_link": true,
   "provenance": []
  },
  "kaggle": {
   "accelerator": "none",
   "dataSources": [],
   "dockerImageVersionId": 31012,
   "isGpuEnabled": false,
   "isInternetEnabled": false,
   "language": "python",
   "sourceType": "notebook"
  },
  "kernelspec": {
   "display_name": "Python 3",
   "language": "python",
   "name": "python3"
  },
  "language_info": {
   "codemirror_mode": {
    "name": "ipython",
    "version": 3
   },
   "file_extension": ".py",
   "mimetype": "text/x-python",
   "name": "python",
   "nbconvert_exporter": "python",
   "pygments_lexer": "ipython3",
   "version": "3.11.11"
  },
  "papermill": {
   "default_parameters": {},
   "duration": 6.034804,
   "end_time": "2025-04-12T06:10:09.629589",
   "environment_variables": {},
   "exception": null,
   "input_path": "__notebook__.ipynb",
   "output_path": "__notebook__.ipynb",
   "parameters": {},
   "start_time": "2025-04-12T06:10:03.594785",
   "version": "2.6.0"
  }
 },
 "nbformat": 4,
 "nbformat_minor": 5
}
