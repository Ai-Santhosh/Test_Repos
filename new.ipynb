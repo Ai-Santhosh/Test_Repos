{
 "cells": [
  {
   "cell_type": "code",
   "execution_count": 1,
   "id": "f070257b",
   "metadata": {},
   "outputs": [
    {
     "name": "stdout",
     "output_type": "stream",
     "text": [
      "New Notebook\n"
     ]
    }
   ],
   "source": [
    "print(\"New Notebook\")"
   ]
  },
  {
   "cell_type": "code",
   "execution_count": 3,
   "id": "ae8d552a",
   "metadata": {},
   "outputs": [
    {
     "name": "stdout",
     "output_type": "stream",
     "text": [
      "New Updates\n"
     ]
    }
   ],
   "source": [
    "print(\"New Updates\")"
   ]
  },
  {
   "cell_type": "code",
   "execution_count": 4,
   "id": "c81d8d29",
   "metadata": {},
   "outputs": [
    {
     "name": "stdout",
     "output_type": "stream",
     "text": [
      "y new updates\n"
     ]
    }
   ],
   "source": [
    "print(\"y new updates\")"
   ]
  },
  {
   "cell_type": "code",
   "execution_count": null,
   "id": "e85e95df",
   "metadata": {},
   "outputs": [],
   "source": []
  },
  {
   "cell_type": "code",
   "execution_count": null,
   "id": "228d9397",
   "metadata": {},
   "outputs": [],
   "source": []
  }
 ],
 "metadata": {
  "kernelspec": {
   "display_name": "Python 3",
   "language": "python",
   "name": "python3"
  },
  "language_info": {
   "codemirror_mode": {
    "name": "ipython",
    "version": 3
   },
   "file_extension": ".py",
   "mimetype": "text/x-python",
   "name": "python",
   "nbconvert_exporter": "python",
   "pygments_lexer": "ipython3",
   "version": "3.9.6"
  }
 },
 "nbformat": 4,
 "nbformat_minor": 5
}
