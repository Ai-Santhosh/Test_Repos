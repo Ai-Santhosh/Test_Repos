{
 "cells": [
  {
   "cell_type": "markdown",
   "id": "c5339516",
   "metadata": {
    "id": "view-in-github",
    "papermill": {
     "duration": 0.002374,
     "end_time": "2025-04-12T06:12:49.814030",
     "exception": false,
     "start_time": "2025-04-12T06:12:49.811656",
     "status": "completed"
    },
    "tags": []
   },
   "source": [
    "<a href=\"https://colab.research.google.com/github/Ai-Santhosh/Test_Repos/blob/main/Untitled16.ipynb\" target=\"_parent\"><img src=\"https://colab.research.google.com/assets/colab-badge.svg\" alt=\"Open In Colab\"/></a>"
   ]
  },
  {
   "cell_type": "code",
   "execution_count": 1,
   "id": "2e3533b3",
   "metadata": {
    "execution": {
     "iopub.execute_input": "2025-04-12T06:12:49.819359Z",
     "iopub.status.busy": "2025-04-12T06:12:49.819045Z",
     "iopub.status.idle": "2025-04-12T06:12:49.827352Z",
     "shell.execute_reply": "2025-04-12T06:12:49.826445Z"
    },
    "id": "liwAUljyhNIz",
    "outputId": "b161845f-14cd-4c4b-a84c-51322f1d2629",
    "papermill": {
     "duration": 0.012741,
     "end_time": "2025-04-12T06:12:49.828868",
     "exception": false,
     "start_time": "2025-04-12T06:12:49.816127",
     "status": "completed"
    },
    "tags": []
   },
   "outputs": [
    {
     "name": "stdout",
     "output_type": "stream",
     "text": [
      "Hello World\n"
     ]
    }
   ],
   "source": [
    "print('Hello World')"
   ]
  },
  {
   "cell_type": "code",
   "execution_count": 2,
   "id": "e9ebc6a0",
   "metadata": {
    "execution": {
     "iopub.execute_input": "2025-04-12T06:12:49.834316Z",
     "iopub.status.busy": "2025-04-12T06:12:49.834021Z",
     "iopub.status.idle": "2025-04-12T06:12:49.838835Z",
     "shell.execute_reply": "2025-04-12T06:12:49.837934Z"
    },
    "id": "GTGrwHjKhe1A",
    "papermill": {
     "duration": 0.009217,
     "end_time": "2025-04-12T06:12:49.840284",
     "exception": false,
     "start_time": "2025-04-12T06:12:49.831067",
     "status": "completed"
    },
    "tags": []
   },
   "outputs": [
    {
     "name": "stdout",
     "output_type": "stream",
     "text": [
      "first session\n"
     ]
    }
   ],
   "source": [
    "print('first session')"
   ]
  },
  {
   "cell_type": "code",
   "execution_count": 3,
   "id": "5c98f78e",
   "metadata": {
    "execution": {
     "iopub.execute_input": "2025-04-12T06:12:49.845726Z",
     "iopub.status.busy": "2025-04-12T06:12:49.845398Z",
     "iopub.status.idle": "2025-04-12T06:12:49.850401Z",
     "shell.execute_reply": "2025-04-12T06:12:49.849379Z"
    },
    "papermill": {
     "duration": 0.009449,
     "end_time": "2025-04-12T06:12:49.851933",
     "exception": false,
     "start_time": "2025-04-12T06:12:49.842484",
     "status": "completed"
    },
    "tags": []
   },
   "outputs": [
    {
     "name": "stdout",
     "output_type": "stream",
     "text": [
      "New Updates\n"
     ]
    }
   ],
   "source": [
    "print(\"New Updates\")"
   ]
  },
  {
   "cell_type": "code",
   "execution_count": 4,
   "id": "60c91197",
   "metadata": {
    "execution": {
     "iopub.execute_input": "2025-04-12T06:12:49.857464Z",
     "iopub.status.busy": "2025-04-12T06:12:49.857170Z",
     "iopub.status.idle": "2025-04-12T06:12:49.861900Z",
     "shell.execute_reply": "2025-04-12T06:12:49.860948Z"
    },
    "papermill": {
     "duration": 0.008906,
     "end_time": "2025-04-12T06:12:49.863159",
     "exception": false,
     "start_time": "2025-04-12T06:12:49.854253",
     "status": "completed"
    },
    "tags": []
   },
   "outputs": [
    {
     "name": "stdout",
     "output_type": "stream",
     "text": [
      "process update\n"
     ]
    }
   ],
   "source": [
    "print(\"process update\")"
   ]
  },
  {
   "cell_type": "code",
   "execution_count": 5,
   "id": "85f1565a",
   "metadata": {
    "execution": {
     "iopub.execute_input": "2025-04-12T06:12:49.868686Z",
     "iopub.status.busy": "2025-04-12T06:12:49.868365Z",
     "iopub.status.idle": "2025-04-12T06:12:49.872888Z",
     "shell.execute_reply": "2025-04-12T06:12:49.871887Z"
    },
    "papermill": {
     "duration": 0.008908,
     "end_time": "2025-04-12T06:12:49.874298",
     "exception": false,
     "start_time": "2025-04-12T06:12:49.865390",
     "status": "completed"
    },
    "tags": []
   },
   "outputs": [
    {
     "name": "stdout",
     "output_type": "stream",
     "text": [
      "update in kaggle\n"
     ]
    }
   ],
   "source": [
    "print(\"update in kaggle\")"
   ]
  },
  {
   "cell_type": "code",
   "execution_count": null,
   "id": "781ba9fb",
   "metadata": {
    "papermill": {
     "duration": 0.002096,
     "end_time": "2025-04-12T06:12:49.878783",
     "exception": false,
     "start_time": "2025-04-12T06:12:49.876687",
     "status": "completed"
    },
    "tags": []
   },
   "outputs": [],
   "source": []
  }
 ],
 "metadata": {
  "colab": {
   "authorship_tag": "ABX9TyN5HiJY3Wfdspw55o3NslZG",
   "include_colab_link": true,
   "provenance": []
  },
  "kaggle": {
   "accelerator": "none",
   "dataSources": [],
   "dockerImageVersionId": 31012,
   "isGpuEnabled": false,
   "isInternetEnabled": false,
   "language": "python",
   "sourceType": "notebook"
  },
  "kernelspec": {
   "display_name": "Python 3",
   "language": "python",
   "name": "python3"
  },
  "language_info": {
   "codemirror_mode": {
    "name": "ipython",
    "version": 3
   },
   "file_extension": ".py",
   "mimetype": "text/x-python",
   "name": "python",
   "nbconvert_exporter": "python",
   "pygments_lexer": "ipython3",
   "version": "3.11.11"
  },
  "papermill": {
   "default_parameters": {},
   "duration": 5.314074,
   "end_time": "2025-04-12T06:12:50.299241",
   "environment_variables": {},
   "exception": null,
   "input_path": "__notebook__.ipynb",
   "output_path": "__notebook__.ipynb",
   "parameters": {},
   "start_time": "2025-04-12T06:12:44.985167",
   "version": "2.6.0"
  }
 },
 "nbformat": 4,
 "nbformat_minor": 5
}
